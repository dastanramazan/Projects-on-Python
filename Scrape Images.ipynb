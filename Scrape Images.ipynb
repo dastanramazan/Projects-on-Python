{
 "cells": [
  {
   "cell_type": "code",
   "execution_count": 2,
   "id": "e87a9f1f",
   "metadata": {},
   "outputs": [
    {
     "name": "stdout",
     "output_type": "stream",
     "text": [
      "https://rubikscode.net/wp-content/uploads/2020/02/RC-logo-for-light-bg.png\n",
      "https://rubikscode.net/wp-content/uploads/2021/04/AdobeStock_396897385-1-scaled.jpeg\n",
      "https://rubikscode.net/wp-content/uploads/2022/04/ML.NET-FULL-STACK.png\n",
      "https://rubikscode.net/wp-content/uploads/2021/05/Untitled-design.png\n",
      "https://rubikscode.net/wp-content/uploads/2021/04/Colorful-Abstract-Design-Book-Cover.png\n",
      "https://rubikscode.net/wp-content/uploads/2020/01/imageedit_25_5570116102.png\n",
      "https://rubikscode.net/wp-content/uploads/2020/01/imageedit_20_6143676424.png\n",
      "https://rubikscode.net/wp-content/uploads/2020/01/imageedit_15_4262047064.png\n",
      "https://rubikscode.net/wp-content/uploads/2023/04/Featured-1-400x250.png?crop=1\n",
      "https://rubikscode.net/wp-content/uploads/2022/06/Featured-4-400x250.png?crop=1\n",
      "https://rubikscode.net/wp-content/uploads/2022/09/Featured-16-400x250.png?crop=1\n",
      "https://rubikscode.net/wp-content/uploads/2022/06/RC-logo-for-dark-bg.png\n"
     ]
    }
   ],
   "source": [
    "import requests\n",
    "from bs4 import BeautifulSoup\n",
    "import os\n",
    "\n",
    "url='https://rubikscode.net/'\n",
    "ur=requests.get(url)\n",
    "soup=BeautifulSoup(ur.text, 'html.parser')\n",
    "\n",
    "images=soup.find_all('img')\n",
    "\n",
    "fl=0\n",
    "for image in images:\n",
    "    #print(image['src'])\n",
    "    if \"data:image\" not in image['src']:\n",
    "        print(image['src'])\n",
    "        link=image['src']\n",
    "        fl=int(fl)+1\n",
    "        with open('file'+str(fl)+'.jpg','wb') as f:\n",
    "            images_file = requests.get(link)\n",
    "            f.write(images_file.content)"
   ]
  },
  {
   "cell_type": "code",
   "execution_count": null,
   "id": "a71833b8",
   "metadata": {},
   "outputs": [],
   "source": []
  }
 ],
 "metadata": {
  "kernelspec": {
   "display_name": "Python 3 (ipykernel)",
   "language": "python",
   "name": "python3"
  },
  "language_info": {
   "codemirror_mode": {
    "name": "ipython",
    "version": 3
   },
   "file_extension": ".py",
   "mimetype": "text/x-python",
   "name": "python",
   "nbconvert_exporter": "python",
   "pygments_lexer": "ipython3",
   "version": "3.9.13"
  }
 },
 "nbformat": 4,
 "nbformat_minor": 5
}
