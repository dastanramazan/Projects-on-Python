{
 "cells": [
  {
   "cell_type": "code",
   "execution_count": 3,
   "id": "5b54327a",
   "metadata": {},
   "outputs": [
    {
     "name": "stdout",
     "output_type": "stream",
     "text": [
      "Best Diet Plan for Kidney Patients | By Dr. Puru Dhawan\n"
     ]
    }
   ],
   "source": [
    "from urllib.request import urlopen\n",
    "from bs4 import BeautifulSoup\n",
    "import re\n",
    "import requests\n",
    "html = urlopen('https://www.youtube.com/watch?v=-5B858LWJD0')\n",
    "\n",
    "bs = BeautifulSoup(html, 'html.parser')\n",
    "\n",
    "video_url = \"https://www.youtube.com/watch?v=-5B858LWJD0\"\n",
    "session = requests.Session()\n",
    "response = session.get(video_url)\n",
    "all_meta = bs.find_all(\"meta\")\n",
    "print(all_meta[3]['content'])\n"
   ]
  },
  {
   "cell_type": "code",
   "execution_count": null,
   "id": "62026ef4",
   "metadata": {},
   "outputs": [],
   "source": []
  }
 ],
 "metadata": {
  "kernelspec": {
   "display_name": "Python 3 (ipykernel)",
   "language": "python",
   "name": "python3"
  },
  "language_info": {
   "codemirror_mode": {
    "name": "ipython",
    "version": 3
   },
   "file_extension": ".py",
   "mimetype": "text/x-python",
   "name": "python",
   "nbconvert_exporter": "python",
   "pygments_lexer": "ipython3",
   "version": "3.9.13"
  }
 },
 "nbformat": 4,
 "nbformat_minor": 5
}
