{
 "cells": [
  {
   "cell_type": "code",
   "execution_count": 9,
   "id": "e7e318a0",
   "metadata": {},
   "outputs": [],
   "source": [
    "import requests\n",
    "from bs4 import BeautifulSoup\n",
    "URL = \"https://www.colorado.edu/ecenter/2021/03/17/positive-impact-organic-foods\"\n",
    "page = requests.get(URL)"
   ]
  },
  {
   "cell_type": "code",
   "execution_count": 10,
   "id": "9b7d2e1b",
   "metadata": {},
   "outputs": [
    {
     "name": "stdout",
     "output_type": "stream",
     "text": [
      "\n",
      "Skip to Content\n",
      "\n",
      "Read on to find the answers to these questions and more!\n",
      "USDA certified organic foods are grown and processed according to federal guidelines addressing the following factors:\n",
      "Soil quality\n",
      "Animal raising practices\n",
      "Pest and weed control\n",
      "Biologically based farming methods including regular crop rotations\n",
      "Organic producers must rely on natural substances, without most conventional pesticides, bioengineering, or ionizing radiation\n",
      "Animals are not given antibiotics, growth hormones, or fed animal byproducts\n",
      "Genetically modified organisms (GMOs) are not allowed\n",
      "Only pesticides made with natural ingredients can be used\n",
      "Organic farming tends to be better for the environment\n",
      "Reduces pollution, conserves water, reduces soil erosion, increases soil fertility and health, and uses less energy\n",
      "Healthy soil is key to growing healthy food!\n",
      "Treating soil with harmful pesticides and fertilizers makes the soil dependent on these unnatural chemicals\n",
      "Natural cultivation practices are far better than chemical soil management\n",
      "Organic farming greatly lessens erosion\n",
      "A recent study showed that an organic farm had, on average, eight more inches of topsoil than a chemically treated farm\n",
      "Buying organic food fights the effects of climate change\n",
      "Soil has the ability to sequester carbon (for more about this topic check out my last article Carbon Sequestration through Soil Health | Environmental Center )\n",
      "Rodale’s research shows that: “If only 10,000 medium-sized farms in the U.S. converted to organic production, they would store so much carbon in the soil that it would be equivalent to taking 1,174,400 cars off the road, or reducing car miles driven by 14.62 billion miles.”\n",
      "Organic farming supports water conservation and water health\n",
      "American Rivers notes that water runoff from non-organic farms contains harmful pesticides, toxic fertilizers, and animal waste that is a major water pollution threat\n",
      "Organic farming also creates healthy soil that does not need as much water\n",
      "Note: labeling a food ‘organic’ does NOT necessarily mean the product is nutritious or healthy, labeling something organic is based solely on the agricultural field and/or farm practices\n",
      "Studies, however, have shown that organic milk and meat can be richer in nutrients, including omega-3 fatty acids\n",
      "Studies have also proven that organic produce tends to have higher levels of vitamin C, certain minerals, and antioxidants\n",
      "A study done by Friends of the Earth showed that switching to an organic diet decreased levels of cancer-causing glyphosate – the main ingredient in a common pesticide – by 70% in participants’ bodies in only one week!\n",
      "By avoiding conventional foods, you could be ingesting an estimated 700 fewer chemicals\n",
      "An organically certified farm ensures farmers are conserving biodiversity on their farm and only using approved substances without the use of synthetic chemicals\n",
      "Organic foods create healthier soil that sequesters more carbon\n",
      "It is estimated that global croplands have the potential to store an additional 1.85 gigatons of carbon each year. This is as much as the global transportation sector emits annually.\n",
      "Buying local and organic foods is the #1 way to support the climate in our food purchasing decisions! \n",
      "Check out the local farmer’s market schedule!\n",
      "Fewer transportation costs reduce carbon emissions greatly\n",
      " Subscribe to our monthly newsletter\n",
      "CUSG | Division of Student Affairs \n",
      "\tUniversity of Colorado Environmental Center\n",
      "\t207 UCB, UMC 355, Boulder, CO 80309-0207 \n",
      "\tTo contact us please leave a message at 303-492-8308 or email ecenter@colorado.edu\n",
      "\tOffice Hours Monday - Friday 9:00a-5:00p\n",
      "UMC and Folsom Bike station Open/Closed status\n",
      "More information about COVID-19 response and changes at CU Boulder\n",
      "\n",
      "University of Colorado Boulder© Regents of the University of Colorado\n",
      "Privacy • Legal & Trademarks • Campus Map\n"
     ]
    }
   ],
   "source": [
    "soup = BeautifulSoup(page.content, \"html.parser\")\n",
    "paras = soup.find_all(\"p\")\n",
    "for para in paras:\n",
    "    print(para.text)\n",
    "    "
   ]
  }
 ],
 "metadata": {
  "kernelspec": {
   "display_name": "Python 3 (ipykernel)",
   "language": "python",
   "name": "python3"
  },
  "language_info": {
   "codemirror_mode": {
    "name": "ipython",
    "version": 3
   },
   "file_extension": ".py",
   "mimetype": "text/x-python",
   "name": "python",
   "nbconvert_exporter": "python",
   "pygments_lexer": "ipython3",
   "version": "3.8.5"
  }
 },
 "nbformat": 4,
 "nbformat_minor": 5
}
